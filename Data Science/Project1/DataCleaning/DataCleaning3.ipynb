{
 "cells": [
  {
   "cell_type": "code",
   "execution_count": 1,
   "id": "ca915a7a-7c7d-44e7-9a59-b8af4609dca6",
   "metadata": {},
   "outputs": [],
   "source": [
    "import pandas as pd\n",
    "import numpy as np\n",
    "import matplotlib.pyplot as plt\n",
    "plt.style.use('ggplot')"
   ]
  },
  {
   "cell_type": "code",
   "execution_count": 2,
   "id": "8f103eb7-f18b-4d71-9cab-f4fa421436d0",
   "metadata": {},
   "outputs": [],
   "source": [
    "df1 = pd.read_csv('States/second_state')"
   ]
  },
  {
   "cell_type": "code",
   "execution_count": 3,
   "id": "3db2e29d-abed-4aa9-9248-c56de718d028",
   "metadata": {},
   "outputs": [
    {
     "data": {
      "text/html": [
       "<div>\n",
       "<style scoped>\n",
       "    .dataframe tbody tr th:only-of-type {\n",
       "        vertical-align: middle;\n",
       "    }\n",
       "\n",
       "    .dataframe tbody tr th {\n",
       "        vertical-align: top;\n",
       "    }\n",
       "\n",
       "    .dataframe thead th {\n",
       "        text-align: right;\n",
       "    }\n",
       "</style>\n",
       "<table border=\"1\" class=\"dataframe\">\n",
       "  <thead>\n",
       "    <tr style=\"text-align: right;\">\n",
       "      <th></th>\n",
       "      <th>Unnamed: 0</th>\n",
       "      <th>location</th>\n",
       "      <th>size</th>\n",
       "      <th>total_sqft</th>\n",
       "      <th>bath</th>\n",
       "      <th>balcony</th>\n",
       "      <th>price</th>\n",
       "      <th>bhk</th>\n",
       "      <th>price_per_sqft</th>\n",
       "    </tr>\n",
       "  </thead>\n",
       "  <tbody>\n",
       "    <tr>\n",
       "      <th>0</th>\n",
       "      <td>0</td>\n",
       "      <td>1st Block Jayanagar</td>\n",
       "      <td>4 BHK</td>\n",
       "      <td>2850.0</td>\n",
       "      <td>4.0</td>\n",
       "      <td>1.0</td>\n",
       "      <td>428.0</td>\n",
       "      <td>4</td>\n",
       "      <td>15017.543860</td>\n",
       "    </tr>\n",
       "    <tr>\n",
       "      <th>1</th>\n",
       "      <td>1</td>\n",
       "      <td>1st Block Jayanagar</td>\n",
       "      <td>3 BHK</td>\n",
       "      <td>1630.0</td>\n",
       "      <td>3.0</td>\n",
       "      <td>2.0</td>\n",
       "      <td>194.0</td>\n",
       "      <td>3</td>\n",
       "      <td>11901.840491</td>\n",
       "    </tr>\n",
       "    <tr>\n",
       "      <th>2</th>\n",
       "      <td>2</td>\n",
       "      <td>1st Block Jayanagar</td>\n",
       "      <td>3 BHK</td>\n",
       "      <td>1875.0</td>\n",
       "      <td>2.0</td>\n",
       "      <td>3.0</td>\n",
       "      <td>235.0</td>\n",
       "      <td>3</td>\n",
       "      <td>12533.333333</td>\n",
       "    </tr>\n",
       "    <tr>\n",
       "      <th>3</th>\n",
       "      <td>3</td>\n",
       "      <td>1st Block Jayanagar</td>\n",
       "      <td>3 BHK</td>\n",
       "      <td>1200.0</td>\n",
       "      <td>2.0</td>\n",
       "      <td>0.0</td>\n",
       "      <td>130.0</td>\n",
       "      <td>3</td>\n",
       "      <td>10833.333333</td>\n",
       "    </tr>\n",
       "    <tr>\n",
       "      <th>4</th>\n",
       "      <td>4</td>\n",
       "      <td>1st Block Jayanagar</td>\n",
       "      <td>2 BHK</td>\n",
       "      <td>1235.0</td>\n",
       "      <td>2.0</td>\n",
       "      <td>2.0</td>\n",
       "      <td>148.0</td>\n",
       "      <td>2</td>\n",
       "      <td>11983.805668</td>\n",
       "    </tr>\n",
       "  </tbody>\n",
       "</table>\n",
       "</div>"
      ],
      "text/plain": [
       "   Unnamed: 0             location   size  total_sqft  bath  balcony  price  \\\n",
       "0           0  1st Block Jayanagar  4 BHK      2850.0   4.0      1.0  428.0   \n",
       "1           1  1st Block Jayanagar  3 BHK      1630.0   3.0      2.0  194.0   \n",
       "2           2  1st Block Jayanagar  3 BHK      1875.0   2.0      3.0  235.0   \n",
       "3           3  1st Block Jayanagar  3 BHK      1200.0   2.0      0.0  130.0   \n",
       "4           4  1st Block Jayanagar  2 BHK      1235.0   2.0      2.0  148.0   \n",
       "\n",
       "   bhk  price_per_sqft  \n",
       "0    4    15017.543860  \n",
       "1    3    11901.840491  \n",
       "2    3    12533.333333  \n",
       "3    3    10833.333333  \n",
       "4    2    11983.805668  "
      ]
     },
     "execution_count": 3,
     "metadata": {},
     "output_type": "execute_result"
    }
   ],
   "source": [
    "df1.head()"
   ]
  },
  {
   "cell_type": "code",
   "execution_count": 4,
   "id": "336ff2cc-4796-45d7-93c1-91f290f25e7e",
   "metadata": {},
   "outputs": [],
   "source": [
    "df1.drop('Unnamed: 0', axis='columns', inplace=True)"
   ]
  },
  {
   "cell_type": "code",
   "execution_count": 5,
   "id": "0ef4c8b7-f9a3-466f-b2c0-9c602f711163",
   "metadata": {},
   "outputs": [
    {
     "data": {
      "text/html": [
       "<div>\n",
       "<style scoped>\n",
       "    .dataframe tbody tr th:only-of-type {\n",
       "        vertical-align: middle;\n",
       "    }\n",
       "\n",
       "    .dataframe tbody tr th {\n",
       "        vertical-align: top;\n",
       "    }\n",
       "\n",
       "    .dataframe thead th {\n",
       "        text-align: right;\n",
       "    }\n",
       "</style>\n",
       "<table border=\"1\" class=\"dataframe\">\n",
       "  <thead>\n",
       "    <tr style=\"text-align: right;\">\n",
       "      <th></th>\n",
       "      <th>location</th>\n",
       "      <th>size</th>\n",
       "      <th>total_sqft</th>\n",
       "      <th>bath</th>\n",
       "      <th>balcony</th>\n",
       "      <th>price</th>\n",
       "      <th>bhk</th>\n",
       "      <th>price_per_sqft</th>\n",
       "    </tr>\n",
       "  </thead>\n",
       "  <tbody>\n",
       "    <tr>\n",
       "      <th>0</th>\n",
       "      <td>1st Block Jayanagar</td>\n",
       "      <td>4 BHK</td>\n",
       "      <td>2850.0</td>\n",
       "      <td>4.0</td>\n",
       "      <td>1.0</td>\n",
       "      <td>428.0</td>\n",
       "      <td>4</td>\n",
       "      <td>15017.543860</td>\n",
       "    </tr>\n",
       "    <tr>\n",
       "      <th>1</th>\n",
       "      <td>1st Block Jayanagar</td>\n",
       "      <td>3 BHK</td>\n",
       "      <td>1630.0</td>\n",
       "      <td>3.0</td>\n",
       "      <td>2.0</td>\n",
       "      <td>194.0</td>\n",
       "      <td>3</td>\n",
       "      <td>11901.840491</td>\n",
       "    </tr>\n",
       "    <tr>\n",
       "      <th>2</th>\n",
       "      <td>1st Block Jayanagar</td>\n",
       "      <td>3 BHK</td>\n",
       "      <td>1875.0</td>\n",
       "      <td>2.0</td>\n",
       "      <td>3.0</td>\n",
       "      <td>235.0</td>\n",
       "      <td>3</td>\n",
       "      <td>12533.333333</td>\n",
       "    </tr>\n",
       "    <tr>\n",
       "      <th>3</th>\n",
       "      <td>1st Block Jayanagar</td>\n",
       "      <td>3 BHK</td>\n",
       "      <td>1200.0</td>\n",
       "      <td>2.0</td>\n",
       "      <td>0.0</td>\n",
       "      <td>130.0</td>\n",
       "      <td>3</td>\n",
       "      <td>10833.333333</td>\n",
       "    </tr>\n",
       "    <tr>\n",
       "      <th>4</th>\n",
       "      <td>1st Block Jayanagar</td>\n",
       "      <td>2 BHK</td>\n",
       "      <td>1235.0</td>\n",
       "      <td>2.0</td>\n",
       "      <td>2.0</td>\n",
       "      <td>148.0</td>\n",
       "      <td>2</td>\n",
       "      <td>11983.805668</td>\n",
       "    </tr>\n",
       "  </tbody>\n",
       "</table>\n",
       "</div>"
      ],
      "text/plain": [
       "              location   size  total_sqft  bath  balcony  price  bhk  \\\n",
       "0  1st Block Jayanagar  4 BHK      2850.0   4.0      1.0  428.0    4   \n",
       "1  1st Block Jayanagar  3 BHK      1630.0   3.0      2.0  194.0    3   \n",
       "2  1st Block Jayanagar  3 BHK      1875.0   2.0      3.0  235.0    3   \n",
       "3  1st Block Jayanagar  3 BHK      1200.0   2.0      0.0  130.0    3   \n",
       "4  1st Block Jayanagar  2 BHK      1235.0   2.0      2.0  148.0    2   \n",
       "\n",
       "   price_per_sqft  \n",
       "0    15017.543860  \n",
       "1    11901.840491  \n",
       "2    12533.333333  \n",
       "3    10833.333333  \n",
       "4    11983.805668  "
      ]
     },
     "execution_count": 5,
     "metadata": {},
     "output_type": "execute_result"
    }
   ],
   "source": [
    "df1.head()"
   ]
  },
  {
   "cell_type": "code",
   "execution_count": 27,
   "id": "21c9370b-131b-49e1-8356-e6ecb7917de3",
   "metadata": {},
   "outputs": [],
   "source": [
    "def comparing_rooms_sqft_price(df, location):\n",
    "    bh3 = df[(df.location==location) & (df.bhk==3)]\n",
    "    bh2 = df[(df.location==location) & (df.bhk==2)]\n",
    "    plt.scatter(bh3.total_sqft, bh3.price, color='red', marker='*', label='with 3 room', s=50)\n",
    "    plt.scatter(bh2.total_sqft, bh2.price, color='blue', marker='+', label='with 2 room', s=50)\n",
    "    plt.title(f'The location is : {location}')\n",
    "    plt.xlabel('Total squer feat area')\n",
    "    plt.ylabel('Price (Lakh Indian Rupees)')\n",
    "    plt.legend()\n",
    "    plt.show()"
   ]
  },
  {
   "cell_type": "code",
   "execution_count": 28,
   "id": "97daa489-5daf-4e26-820e-79fe9d22cb39",
   "metadata": {},
   "outputs": [
    {
     "data": {
      "image/png": "[encoded data removed]",
      "text/plain": [
       "<Figure size 640x480 with 1 Axes>"
      ]
     },
     "metadata": {},
     "output_type": "display_data"
    }
   ],
   "source": [
    "comparing_rooms_sqft_price(df1, \"Rajaji Nagar\")"
   ]
  },
  {
   "cell_type": "code",
   "execution_count": 6,
   "id": "e0d090d6-4a2b-4ee2-a4ee-4f3923d896e2",
   "metadata": {},
   "outputs": [],
   "source": [
    "bhk_sort_list = []\n",
    "for location, location_df in df1.groupby('location'):\n",
    "    bhk_means = {}\n",
    "    lst = []\n",
    "    for bhk, bhk_df in location_df.groupby('bhk'):\n",
    "        if bhk_df.shape[0]>5:\n",
    "            lst.append([bhk, np.mean(bhk_df.price_per_sqft)])\n",
    "    bhk_means = {location:lst}\n",
    "    if bhk_means[location]:\n",
    "        bhk_sort_list.append(bhk_means)"
   ]
  },
  {
   "cell_type": "code",
   "execution_count": 7,
   "id": "b7755928-d0eb-4ab6-8c5d-713a0804fecc",
   "metadata": {},
   "outputs": [
    {
     "data": {
      "text/plain": [
       "[{'1st Phase JP Nagar': [[2, 7931.806799837383], [3, 9151.192151725822]]},\n",
       " {'5th Phase JP Nagar': [[2, 5067.359785883266], [3, 5112.892626961968]]},\n",
       " {'6th Phase JP Nagar': [[2, 5932.976565810137]]},\n",
       " {'7th Phase JP Nagar': [[2, 6272.516842644273], [3, 6612.861682598103]]},\n",
       " {'8th Phase JP Nagar': [[2, 4324.406715739656], [3, 4293.744876160689]]},\n",
       " {'9th Phase JP Nagar': [[2, 4653.05138390364], [3, 4518.339436369508]]},\n",
       " {'AECS Layout': [[2, 4921.300339526721]]},\n",
       " {'Abbigere': [[2, 4058.165803016323]]},\n",
       " {'Akshaya Nagar': [[2, 4781.22783734999], [3, 5294.361032273932]]},\n",
       " {'Ambalipura': [[2, 5886.737386783397], [3, 6331.134555298749]]}]"
      ]
     },
     "execution_count": 7,
     "metadata": {},
     "output_type": "execute_result"
    }
   ],
   "source": [
    "bhk_sort_list[:10]"
   ]
  },
  {
   "cell_type": "code",
   "execution_count": 8,
   "id": "42c731f4-ef35-483b-a425-18ef45dd6373",
   "metadata": {},
   "outputs": [
    {
     "data": {
      "text/plain": [
       "array([ 7,  8,  9, 10, 11, 12, 13, 14, 15, 16, 17, 18, 19, 20, 21, 22, 23,\n",
       "       24, 25, 26], dtype=int64)"
      ]
     },
     "execution_count": 8,
     "metadata": {},
     "output_type": "execute_result"
    }
   ],
   "source": [
    "df1[df1.location=='1st Phase JP Nagar'].index.values"
   ]
  },
  {
   "cell_type": "code",
   "execution_count": 23,
   "id": "634693c4-cc28-49b8-880a-eea768f2d4cb",
   "metadata": {},
   "outputs": [],
   "source": [
    "# remove_objects_list = []\n",
    "index_list = np.array([])\n",
    "index = 0\n",
    "for location, location_df in df1.groupby('location'):\n",
    "    for bhk, bhk_df in location_df.groupby('bhk'):\n",
    "        for j, t in enumerate(bhk_sort_list):\n",
    "            if list(t.keys())[0]!=location:\n",
    "                continue\n",
    "            for i in range(0, 16, 1):\n",
    "                try:\n",
    "                    if bhk_sort_list[j][location][i][0]+1==bhk:\n",
    "                        # for x, y in enumerate(bhk_df.price_per_sqft):\n",
    "                        index_list = np.append(index_list, bhk_df[bhk_df.price_per_sqft<bhk_sort_list[j][location][i][1]].index.values)\n",
    "                                # remove_objects_list.append([y, location, bhk])\n",
    "                                # index_list.append(index)\n",
    "                except:\n",
    "                    pass"
   ]
  },
  {
   "cell_type": "code",
   "execution_count": 24,
   "id": "e6b0c3c0-5c6a-4306-85a7-6a09a0736379",
   "metadata": {},
   "outputs": [
    {
     "data": {
      "text/plain": [
       "2912"
      ]
     },
     "execution_count": 24,
     "metadata": {},
     "output_type": "execute_result"
    }
   ],
   "source": [
    "len(list(index_list))"
   ]
  },
  {
   "cell_type": "code",
   "execution_count": 26,
   "id": "55d8c6ed-37f7-4497-aa24-62cbf4f0aa56",
   "metadata": {},
   "outputs": [
    {
     "data": {
      "text/plain": [
       "[9309.0,\n",
       " 9319.0,\n",
       " 9441.0,\n",
       " 9760.0,\n",
       " 9896.0,\n",
       " 8964.0,\n",
       " 9078.0,\n",
       " 8624.0,\n",
       " 9674.0,\n",
       " 10213.0]"
      ]
     },
     "execution_count": 26,
     "metadata": {},
     "output_type": "execute_result"
    }
   ],
   "source": [
    "list(index_list)[-10:]"
   ]
  },
  {
   "cell_type": "code",
   "execution_count": 30,
   "id": "b2737169-581e-44bb-b5f8-3222811195e8",
   "metadata": {},
   "outputs": [],
   "source": [
    "df2 = df1.drop(index_list, axis='index')"
   ]
  },
  {
   "cell_type": "code",
   "execution_count": 31,
   "id": "e710e23a-04b2-44b8-8a7f-b41b1b2c8229",
   "metadata": {},
   "outputs": [
    {
     "data": {
      "image/png": "[encoded data removed]",
      "text/plain": [
       "<Figure size 640x480 with 1 Axes>"
      ]
     },
     "metadata": {},
     "output_type": "display_data"
    }
   ],
   "source": [
    "comparing_rooms_sqft_price(df2, \"Rajaji Nagar\")"
   ]
  },
  {
   "cell_type": "code",
   "execution_count": 33,
   "id": "bfcd9a87-7908-4e3b-8cd2-68f8ebc15612",
   "metadata": {},
   "outputs": [
    {
     "data": {
      "text/plain": [
       "(7329, 8)"
      ]
     },
     "execution_count": 33,
     "metadata": {},
     "output_type": "execute_result"
    }
   ],
   "source": [
    "df2.shape"
   ]
  },
  {
   "cell_type": "code",
   "execution_count": 34,
   "id": "8fe0489b-9df4-44dd-95ee-db2ab9d90f3a",
   "metadata": {},
   "outputs": [
    {
     "data": {
      "text/html": [
       "<div>\n",
       "<style scoped>\n",
       "    .dataframe tbody tr th:only-of-type {\n",
       "        vertical-align: middle;\n",
       "    }\n",
       "\n",
       "    .dataframe tbody tr th {\n",
       "        vertical-align: top;\n",
       "    }\n",
       "\n",
       "    .dataframe thead th {\n",
       "        text-align: right;\n",
       "    }\n",
       "</style>\n",
       "<table border=\"1\" class=\"dataframe\">\n",
       "  <thead>\n",
       "    <tr style=\"text-align: right;\">\n",
       "      <th></th>\n",
       "      <th>total_sqft</th>\n",
       "      <th>bath</th>\n",
       "      <th>balcony</th>\n",
       "      <th>price</th>\n",
       "      <th>bhk</th>\n",
       "      <th>price_per_sqft</th>\n",
       "    </tr>\n",
       "  </thead>\n",
       "  <tbody>\n",
       "    <tr>\n",
       "      <th>count</th>\n",
       "      <td>7329.000000</td>\n",
       "      <td>7329.000000</td>\n",
       "      <td>7329.000000</td>\n",
       "      <td>7329.000000</td>\n",
       "      <td>7329.000000</td>\n",
       "      <td>7329.000000</td>\n",
       "    </tr>\n",
       "    <tr>\n",
       "      <th>mean</th>\n",
       "      <td>1493.258283</td>\n",
       "      <td>2.451903</td>\n",
       "      <td>1.533906</td>\n",
       "      <td>98.795452</td>\n",
       "      <td>2.500341</td>\n",
       "      <td>6124.960960</td>\n",
       "    </tr>\n",
       "    <tr>\n",
       "      <th>std</th>\n",
       "      <td>860.210268</td>\n",
       "      <td>1.014718</td>\n",
       "      <td>0.784663</td>\n",
       "      <td>93.028576</td>\n",
       "      <td>0.928551</td>\n",
       "      <td>2408.673991</td>\n",
       "    </tr>\n",
       "    <tr>\n",
       "      <th>min</th>\n",
       "      <td>300.000000</td>\n",
       "      <td>1.000000</td>\n",
       "      <td>0.000000</td>\n",
       "      <td>10.000000</td>\n",
       "      <td>1.000000</td>\n",
       "      <td>1300.000000</td>\n",
       "    </tr>\n",
       "    <tr>\n",
       "      <th>25%</th>\n",
       "      <td>1096.000000</td>\n",
       "      <td>2.000000</td>\n",
       "      <td>1.000000</td>\n",
       "      <td>50.000000</td>\n",
       "      <td>2.000000</td>\n",
       "      <td>4598.384728</td>\n",
       "    </tr>\n",
       "    <tr>\n",
       "      <th>50%</th>\n",
       "      <td>1259.000000</td>\n",
       "      <td>2.000000</td>\n",
       "      <td>1.000000</td>\n",
       "      <td>73.000000</td>\n",
       "      <td>2.000000</td>\n",
       "      <td>5680.000000</td>\n",
       "    </tr>\n",
       "    <tr>\n",
       "      <th>75%</th>\n",
       "      <td>1677.000000</td>\n",
       "      <td>3.000000</td>\n",
       "      <td>2.000000</td>\n",
       "      <td>112.000000</td>\n",
       "      <td>3.000000</td>\n",
       "      <td>6896.551724</td>\n",
       "    </tr>\n",
       "    <tr>\n",
       "      <th>max</th>\n",
       "      <td>30000.000000</td>\n",
       "      <td>16.000000</td>\n",
       "      <td>3.000000</td>\n",
       "      <td>2200.000000</td>\n",
       "      <td>16.000000</td>\n",
       "      <td>24509.803922</td>\n",
       "    </tr>\n",
       "  </tbody>\n",
       "</table>\n",
       "</div>"
      ],
      "text/plain": [
       "         total_sqft         bath      balcony        price          bhk  \\\n",
       "count   7329.000000  7329.000000  7329.000000  7329.000000  7329.000000   \n",
       "mean    1493.258283     2.451903     1.533906    98.795452     2.500341   \n",
       "std      860.210268     1.014718     0.784663    93.028576     0.928551   \n",
       "min      300.000000     1.000000     0.000000    10.000000     1.000000   \n",
       "25%     1096.000000     2.000000     1.000000    50.000000     2.000000   \n",
       "50%     1259.000000     2.000000     1.000000    73.000000     2.000000   \n",
       "75%     1677.000000     3.000000     2.000000   112.000000     3.000000   \n",
       "max    30000.000000    16.000000     3.000000  2200.000000    16.000000   \n",
       "\n",
       "       price_per_sqft  \n",
       "count     7329.000000  \n",
       "mean      6124.960960  \n",
       "std       2408.673991  \n",
       "min       1300.000000  \n",
       "25%       4598.384728  \n",
       "50%       5680.000000  \n",
       "75%       6896.551724  \n",
       "max      24509.803922  "
      ]
     },
     "execution_count": 34,
     "metadata": {},
     "output_type": "execute_result"
    }
   ],
   "source": [
    "df2.describe()"
   ]
  },
  {
   "cell_type": "code",
   "execution_count": 32,
   "id": "85af1271-c72d-4851-b6a4-b4545fee1837",
   "metadata": {},
   "outputs": [],
   "source": [
    "df2.to_csv('States/third_state')"
   ]
  }
 ],
 "metadata": {
  "kernelspec": {
   "display_name": "Python 3 (ipykernel)",
   "language": "python",
   "name": "python3"
  },
  "language_info": {
   "codemirror_mode": {
    "name": "ipython",
    "version": 3
   },
   "file_extension": ".py",
   "mimetype": "text/x-python",
   "name": "python",
   "nbconvert_exporter": "python",
   "pygments_lexer": "ipython3",
   "version": "3.11.7"
  }
 },
 "nbformat": 4,
 "nbformat_minor": 5
}
